{
  "cells": [
    {
      "cell_type": "markdown",
      "metadata": {},
      "source": [
        "# Drosophila Connectome Data Ingestion\n",
        "\n",
        "This notebook fetches neural connectivity data from the neuPrint API for different brain regions and saves it in structured formats for analysis.\n",
        "\n",
        "Process:\n",
        "1. Fetch neurons from specific brain regions\n",
        "2. Retrieve connectivity between neurons\n",
        "3. Save raw data (JSON, CSV)\n",
        "4. Build and save network graphs (GEXF)\n",
        "\n",
        "The core logic is implemented in `src/data_io.py`."
      ]
    },
    {
      "cell_type": "code",
      "execution_count": null,
      "metadata": {},
      "outputs": [],
      "source": [
        "# Import necessary libraries\n",
        "import os\n",
        "import sys\n",
        "import logging\n",
        "import pandas as pd\n",
        "import networkx as nx\n",
        "import matplotlib.pyplot as plt\n",
        "from pathlib import Path\n",
        "\n",
        "# Add src directory to path to import project modules\n",
        "sys.path.append(os.path.abspath(os.path.join(os.getcwd(), '..')))\n",
        "\n",
        "# Import project modules\n",
        "from src import config\n",
        "from src import data_io\n",
        "from src import utils\n",
        "\n",
        "# Set up logging\n",
        "logger = utils.setup_logging(level=logging.INFO)"
      ]
    },
    {
      "cell_type": "markdown",
      "metadata": {},
      "source": [
        "## 1. Configuration\n",
        "\n",
        "All configuration parameters are centralized in `src/config.py`."
      ]
    },
    {
      "cell_type": "code",
      "execution_count": null,
      "metadata": {},
      "outputs": [],
      "source": [
        "# Define brain regions to process\n",
        "regions_to_fetch = [\"EB\", \"FB\", \"MB\"]\n",
        "\n",
        "# Set random seed for reproducibility\n",
        "utils.set_seed(config.DEFAULT_SEED)\n",
        "\n",
        "# Print configuration\n",
        "print(f\"neuPrint Server: {config.NEUPRINT_SERVER}\")\n",
        "print(f\"Dataset: {config.NEUPRINT_DATASET}\")\n",
        "print(f\"Regions to fetch: {regions_to_fetch}\")\n",
        "print(f\"Connectivity threshold: {config.CONNECTIVITY_THRESHOLD}\")\n",
        "print(f\"Raw data directory: {config.DATA_RAW_DIR}\")\n",
        "print(f\"Processed data directory: {config.DATA_PROCESSED_DIR}\")"
      ]
    },
    {
      "cell_type": "markdown",
      "metadata": {},
      "source": [
        "## 2. Fetch Neurons by Region\n",
        "\n",
        "For each brain region, fetch the relevant neurons."
      ]
    },
    {
      "cell_type": "code",
      "execution_count": null,
      "metadata": {},
      "outputs": [],
      "source": [
        "# Dictionary to store neuron data by region\n",
        "neurons_by_region = {}\n",
        "\n",
        "for region in regions_to_fetch:\n",
        "    try:\n",
        "        # Fetch neurons for this region\n",
        "        neurons = data_io.fetch_neurons_by_region(region)\n",
        "        neurons_by_region[region] = neurons\n",
        "        \n",
        "        # Save to JSON\n",
        "        data_io.save_neurons_to_json(neurons, region)\n",
        "        \n",
        "        # Display summary\n",
        "        print(f\"Region {region}: {len(neurons)} neurons\")\n",
        "        \n",
        "        # Show sample data\n",
        "        if neurons:\n",
        "            print(\"Sample neuron data:\")\n",
        "            print(neurons[0])\n",
        "            print(\"\\n\")\n",
        "            \n",
        "    except Exception as e:\n",
        "        logger.error(f\"Error fetching neurons for region {region}: {str(e)}\")"
      ]
    },
    {
      "cell_type": "markdown",
      "metadata": {},
      "source": [
        "## 3. Fetch Connectivity Data\n",
        "\n",
        "For each region, fetch connectivity data between neurons."
      ]
    },
    {
      "cell_type": "code",
      "execution_count": null,
      "metadata": {},
      "outputs": [],
      "source": [
        "# Dictionary to store connectivity data by region\n",
        "connectivity_by_region = {}\n",
        "\n",
        "for region, neurons in neurons_by_region.items():\n",
        "    try:\n",
        "        # Extract neuron IDs\n",
        "        neuron_ids = [n['bodyId'] for n in neurons]\n",
        "        \n",
        "        # Fetch connectivity data\n",
        "        connectivity = data_io.fetch_connectivity(neuron_ids)\n",
        "        connectivity_by_region[region] = connectivity\n",
        "        \n",
        "        # Save to CSV\n",
        "        data_io.save_connectivity_to_csv(connectivity, region)\n",
        "        \n",
        "        # Display summary\n",
        "        print(f\"Region {region}: {len(connectivity)} connections\")\n",
        "        \n",
        "        # Show sample data\n",
        "        if not connectivity.empty:\n",
        "            print(\"\\nSample connectivity data:\")\n",
        "            print(connectivity.head())\n",
        "            print(\"\\n\")\n",
        "            \n",
        "    except Exception as e:\n",
        "        logger.error(f\"Error fetching connectivity for region {region}: {str(e)}\")"
      ]
    },
    {
      "cell_type": "markdown",
      "metadata": {},
      "source": [
        "## 4. Build Network Graphs\n",
        "\n",
        "Convert connectivity data to NetworkX graphs and save as GEXF files."
      ]
    },
    {
      "cell_type": "code",
      "execution_count": null,
      "metadata": {},
      "outputs": [],
      "source": [
        "# Dictionary to store network graphs by region\n",
        "networks_by_region = {}\n",
        "\n",
        "for region, connectivity in connectivity_by_region.items():\n",
        "    try:\n",
        "        # Build network graph\n",
        "        network = data_io.build_network_from_connectivity(connectivity)\n",
        "        networks_by_region[region] = network\n",
        "        \n",
        "        # Save to GEXF\n",
        "        data_io.save_network_to_gexf(network, region)\n",
        "        \n",
        "        # Display summary\n",
        "        print(f\"Region {region} network:\")\n",
        "        print(f\"  Nodes: {network.number_of_nodes()}\")\n",
        "        print(f\"  Edges: {network.number_of_edges()}\")\n",
        "        print(f\"  Density: {nx.density(network):.6f}\")\n",
        "        print(\"\\n\")\n",
        "        \n",
        "    except Exception as e:\n",
        "        logger.error(f\"Error building network for region {region}: {str(e)}\")"
      ]
    }
  ],
  "metadata": {
    "kernelspec": {
      "display_name": "Python 3",
      "language": "python",
      "name": "python3"
    },
    "language_info": {
      "codemirror_mode": {
        "name": "ipython",
        "version": 3
      },
      "file_extension": ".py",
      "mimetype": "text/x-python",
      "name": "python",
      "nbconvert_exporter": "python",
      "pygments_lexer": "ipython3",
      "version": "3.8.10"
    }
  },
  "nbformat": 4,
  "nbformat_minor": 4
}